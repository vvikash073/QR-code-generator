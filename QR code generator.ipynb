{
 "cells": [
  {
   "cell_type": "code",
   "execution_count": 3,
   "id": "bdde0a9e",
   "metadata": {},
   "outputs": [
    {
     "name": "stdout",
     "output_type": "stream",
     "text": [
      "Collecting qrcode\n",
      "  Using cached qrcode-7.3.1.tar.gz (43 kB)\n",
      "Requirement already satisfied: colorama in c:\\users\\asus\\anaconda3\\envs\\notebook\\lib\\site-packages (from qrcode) (0.4.4)\n",
      "Building wheels for collected packages: qrcode\n",
      "  Building wheel for qrcode (setup.py): started\n",
      "  Building wheel for qrcode (setup.py): finished with status 'done'\n",
      "  Created wheel for qrcode: filename=qrcode-7.3.1-py3-none-any.whl size=40401 sha256=7fca095146ac06a5607270eb2556fba06b9c368697e1a138ec6bafdaf82396f5\n",
      "  Stored in directory: c:\\users\\asus\\appdata\\local\\pip\\cache\\wheels\\35\\fd\\04\\2768886c56207acee0d6dc6b9bd5d06dac63a810f0c0a42516\n",
      "Successfully built qrcode\n",
      "Installing collected packages: qrcode\n",
      "Successfully installed qrcode-7.3.1\n"
     ]
    }
   ],
   "source": [
    "!pip install qrcode"
   ]
  },
  {
   "cell_type": "code",
   "execution_count": 4,
   "id": "8505fdfa",
   "metadata": {},
   "outputs": [
    {
     "name": "stdout",
     "output_type": "stream",
     "text": [
      "Collecting image\n",
      "  Using cached image-1.5.33.tar.gz (15 kB)\n",
      "Collecting pillow\n",
      "  Downloading Pillow-9.1.0-cp38-cp38-win_amd64.whl (3.3 MB)\n",
      "Collecting django\n",
      "  Downloading Django-4.0.4-py3-none-any.whl (8.0 MB)\n",
      "Requirement already satisfied: six in c:\\users\\asus\\anaconda3\\envs\\notebook\\lib\\site-packages (from image) (1.16.0)\n",
      "Collecting asgiref<4,>=3.4.1\n",
      "  Downloading asgiref-3.5.1-py3-none-any.whl (22 kB)\n",
      "Collecting backports.zoneinfo\n",
      "  Downloading backports.zoneinfo-0.2.1-cp38-cp38-win_amd64.whl (38 kB)\n",
      "Collecting sqlparse>=0.2.2\n",
      "  Using cached sqlparse-0.4.2-py3-none-any.whl (42 kB)\n",
      "Collecting tzdata\n",
      "  Downloading tzdata-2022.1-py2.py3-none-any.whl (339 kB)\n",
      "Building wheels for collected packages: image\n",
      "  Building wheel for image (setup.py): started\n",
      "  Building wheel for image (setup.py): finished with status 'done'\n",
      "  Created wheel for image: filename=image-1.5.33-py2.py3-none-any.whl size=19496 sha256=c6f1e2237ae48cd5cd969cc484e980b8fb746a2ad95503ed8f0d2fccb2553986\n",
      "  Stored in directory: c:\\users\\asus\\appdata\\local\\pip\\cache\\wheels\\ac\\30\\5c\\a8b33888bea3507eda7c924a143d34b2390d2ca5b145b327b5\n",
      "Successfully built image\n",
      "Installing collected packages: tzdata, sqlparse, backports.zoneinfo, asgiref, pillow, django, image\n",
      "Successfully installed asgiref-3.5.1 backports.zoneinfo-0.2.1 django-4.0.4 image-1.5.33 pillow-9.1.0 sqlparse-0.4.2 tzdata-2022.1\n"
     ]
    }
   ],
   "source": [
    "!pip install image"
   ]
  },
  {
   "cell_type": "code",
   "execution_count": 5,
   "id": "01ecdb3a",
   "metadata": {},
   "outputs": [],
   "source": [
    "import qrcode\n",
    "import image\n"
   ]
  },
  {
   "cell_type": "code",
   "execution_count": 7,
   "id": "9d215e63",
   "metadata": {},
   "outputs": [
    {
     "name": "stdout",
     "output_type": "stream",
     "text": [
      "enter linkhttps://www.google.com/search?q=instagram&rlz=1C1GCEJ_enIN998IN998&oq=inast&aqs=chrome.1.69i57j0i10i131i433l6j0i10i433j0i131i433j0i10i131i433.2605j0j7&sourceid=chrome&ie=UTF-8\n"
     ]
    }
   ],
   "source": [
    "qr=qrcode.QRCode(\n",
    "version=15,\n",
    "box_size=10,\n",
    "border=5\n",
    ")\n",
    "data=input(\"enter link\")\n",
    "qr.add_data(data)\n",
    "qr.make(fit=True)\n",
    "img=qr.make_image(fill=\"black\",back_color=\"white\")\n",
    "img.save('text.png')"
   ]
  }
 ],
 "metadata": {
  "kernelspec": {
   "display_name": "Python 3 (ipykernel)",
   "language": "python",
   "name": "python3"
  },
  "language_info": {
   "codemirror_mode": {
    "name": "ipython",
    "version": 3
   },
   "file_extension": ".py",
   "mimetype": "text/x-python",
   "name": "python",
   "nbconvert_exporter": "python",
   "pygments_lexer": "ipython3",
   "version": "3.8.13"
  }
 },
 "nbformat": 4,
 "nbformat_minor": 5
}
